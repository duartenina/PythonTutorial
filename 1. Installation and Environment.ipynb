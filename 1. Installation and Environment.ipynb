{
 "cells": [
  {
   "cell_type": "markdown",
   "metadata": {},
   "source": [
    "# Installing Python\n",
    "#### Current Version: Python 3.7\n",
    "\n",
    "* [Anaconda](https://www.anaconda.com/distribution/) - distribution with large starting group of packages and own package manager\n",
    "* [Miniconda](https://docs.conda.io/en/latest/miniconda.html) - Conda package manager with minimal packages\n",
    "* [Python.org](https://www.python.org/downloads/) - Official Python distribution\n",
    "* Apt-Get/other package managers"
   ]
  },
  {
   "cell_type": "markdown",
   "metadata": {},
   "source": [
    "### Installing Packages\n",
    "1. `conda install <package-name>`\n",
    "2. `pip install <package-name>`\n",
    "3. `python setup.py install`\n",
    "\n",
    "Always try installing from 1. to 3. to prevent problems with python environment.  \n",
    "Window wheels (.whl) to use with pip: [https://www.lfd.uci.edu/~gohlke/pythonlibs/](https://www.lfd.uci.edu/~gohlke/pythonlibs/)"
   ]
  },
  {
   "cell_type": "markdown",
   "metadata": {},
   "source": [
    "# Environments\n",
    "\n",
    "* [Jupyter Notebook/Lab](https://jupyter.org/) - Notebook system with kernels available for many languages (pre-installed with Anaconda)\n",
    "* [Spyder](https://www.spyder-ide.org/) - IDE made with python for python, inspired in RStudio and Matlab IDEs (pre-installed with Anaconda)\n",
    "* Text Editors:\n",
    "  * [Visual Studio Code](https://code.visualstudio.com/) - free text editor with good python tools\n",
    "  * [Sublime Text](https://www.sublimetext.com/)\n",
    "  * [Atom](https://atom.io/)\n",
    "  * [Notepad++](https://notepad-plus-plus.org/)\n",
    "* [PyCharm](https://www.jetbrains.com/pycharm/) - Full-blown Python IDE (free for students, open-source, and more)"
   ]
  },
  {
   "cell_type": "markdown",
   "metadata": {},
   "source": [
    "# Git\n",
    "\n",
    "[Installing Git](https://git-scm.com/book/en/v2/Getting-Started-Installing-Git)\n",
    "\n",
    "### Git GUIs\n",
    "* [Git Fork](https://git-fork.com/)\n",
    "* [Git Kraken](https://www.gitkraken.com/git-client)\n",
    "* [Sourcetree](https://www.sourcetreeapp.com/)\n",
    "* [Others](https://git-scm.com/downloads/guis/)\n",
    "\n",
    "### Using Git (command line)\n",
    "\n",
    "[Cheat Sheet](https://github.github.com/training-kit/downloads/github-git-cheat-sheet.pdf)\n",
    "\n",
    "#### Repositories and Branches\n",
    "* Clone repository: `git clone <repo>` \n",
    "  * Clone this repo: `git clone https://github.com/duartenina/PythonTutorial.git`\n",
    "* Create repository: `git init <project-name>`\n",
    "* Create branch: `git branch <branch-name>`\n",
    "* Change to branch: `git checkout <branch-name>`\n",
    "\n",
    "#### Making Changes\n",
    "* Add files: `git add <files>`\n",
    "* Create commit with added files: `git commit -m <commit message>`\n",
    "\n",
    "#### Sync Remote Repo\n",
    "* Push changes to another repo: `git push <remote> <branch>`\n",
    "* Check for changes in another repo: `git fetch <remote>`\n",
    "* Pull changes in another repo: `git pull <remote> <branch>`\n",
    "\n",
    "**Note:** Usually the remote is 'origin'."
   ]
  },
  {
   "cell_type": "code",
   "execution_count": null,
   "metadata": {},
   "outputs": [],
   "source": []
  }
 ],
 "metadata": {
  "kernelspec": {
   "display_name": "Python 3",
   "language": "python",
   "name": "python3"
  },
  "language_info": {
   "codemirror_mode": {
    "name": "ipython",
    "version": 3
   },
   "file_extension": ".py",
   "mimetype": "text/x-python",
   "name": "python",
   "nbconvert_exporter": "python",
   "pygments_lexer": "ipython3",
   "version": "3.6.8"
  }
 },
 "nbformat": 4,
 "nbformat_minor": 2
}
