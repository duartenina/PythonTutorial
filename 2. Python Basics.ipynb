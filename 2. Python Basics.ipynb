{
 "cells": [
  {
   "cell_type": "markdown",
   "metadata": {},
   "source": [
    "### Find more info\n",
    "* [Python3 Docs](https://docs.python.org/3/)\n",
    "* McKinney Wes. 2017. *Python for Data Analysis (2 ed.)*. O'Reilly Media, Inc\n",
    "* [StackOverflow Python](https://stackoverflow.com/questions/tagged/python)"
   ]
  },
  {
   "cell_type": "markdown",
   "metadata": {},
   "source": [
    "## Variables"
   ]
  },
  {
   "cell_type": "markdown",
   "metadata": {},
   "source": [
    "#### Primitives (unmutable)"
   ]
  },
  {
   "cell_type": "code",
   "execution_count": 1,
   "metadata": {},
   "outputs": [],
   "source": [
    "integer = 1\n",
    "double = 2.5e-2\n",
    "string = 'string'\n",
    "boolean = True\n",
    "none_type = None"
   ]
  },
  {
   "cell_type": "markdown",
   "metadata": {},
   "source": [
    "No type!"
   ]
  },
  {
   "cell_type": "code",
   "execution_count": 2,
   "metadata": {},
   "outputs": [
    {
     "name": "stdout",
     "output_type": "stream",
     "text": [
      "1\n",
      "hello\n"
     ]
    }
   ],
   "source": [
    "a = 1\n",
    "print(a)\n",
    "a = 'hello'\n",
    "print(a)"
   ]
  },
  {
   "cell_type": "markdown",
   "metadata": {},
   "source": [
    "#### Lists and Tuples"
   ]
  },
  {
   "cell_type": "code",
   "execution_count": 3,
   "metadata": {},
   "outputs": [
    {
     "name": "stdout",
     "output_type": "stream",
     "text": [
      "List:\n",
      " [1, 2, 'a', 'b', True, [1, 2]]\n",
      " 1\n",
      " [1, 2]\n",
      " ['a', 'b']\n",
      " [[1, 2], True, 'b', 'a', 2, 1]\n",
      "Tuple:\n",
      " (1, 2, 'a', 'b', True, (1, 2))\n",
      " (1, 2)\n"
     ]
    }
   ],
   "source": [
    "a_list = [1, 2, 'a', 'b', True, [1, 2]]                           # Mutable\n",
    "print('List:')\n",
    "print('', a_list)\n",
    "print('', a_list[0])\n",
    "print('', a_list[-1])\n",
    "print('', a_list[2:4])\n",
    "print('', a_list[::-1])\n",
    "\n",
    "a_tuple = (1, 2, 'a', 'b', True, (1, 2))                          # Unmutable\n",
    "print('Tuple:')\n",
    "print('', a_tuple)\n",
    "print('', a_tuple[5])"
   ]
  },
  {
   "cell_type": "markdown",
   "metadata": {},
   "source": [
    "#### Sets - For group operations (order is irrelevant) - only unmutable elements"
   ]
  },
  {
   "cell_type": "code",
   "execution_count": 4,
   "metadata": {},
   "outputs": [
    {
     "name": "stdout",
     "output_type": "stream",
     "text": [
      "Set:\n",
      " {(1, 2), 1, 2, 'a', 'b'}\n",
      " {(1, 2), 'a', 'b'}\n",
      " {(1, 2), 1, 2, 3, 4, 'a', 'b'}\n",
      " {1, 2}\n",
      " {(1, 2), 3, 4, 'a', 'b'}\n"
     ]
    }
   ],
   "source": [
    "a_set = {1, 2, 'a', 'b', True, (1, 2)}\n",
    "another_set = {1, 2, 3, 4}\n",
    "print('Set:')\n",
    "print('', a_set)\n",
    "#print(a_set[1]) # Not possible\n",
    "print('', a_set - another_set)\n",
    "print('', a_set | another_set)\n",
    "print('', a_set & another_set)\n",
    "print('', a_set ^ another_set)"
   ]
  },
  {
   "cell_type": "markdown",
   "metadata": {},
   "source": [
    "#### Dictionaries - with arbitrary (unmutable) keys"
   ]
  },
  {
   "cell_type": "code",
   "execution_count": 5,
   "metadata": {},
   "outputs": [
    {
     "name": "stdout",
     "output_type": "stream",
     "text": [
      "Dictionary:\n",
      " {'key1': 'value1', 'key2': [1, 2], (1, 2): 'value2'}\n",
      " value1 value2\n",
      " {'key1': 'value1', 'key2': [1, 2], (1, 2): 'value2', 'key3': 'value3'}\n"
     ]
    }
   ],
   "source": [
    "a_dict = {'key1': 'value1', 'key2': [1, 2], (1, 2): 'value2'}\n",
    "print('Dictionary:')\n",
    "print('', a_dict)\n",
    "print('', a_dict['key1'], a_dict[(1,2)])\n",
    "a_dict['key3'] = 'value3'\n",
    "print('', a_dict)"
   ]
  },
  {
   "cell_type": "markdown",
   "metadata": {},
   "source": [
    "Variables are references to objects:"
   ]
  },
  {
   "cell_type": "code",
   "execution_count": 6,
   "metadata": {},
   "outputs": [
    {
     "name": "stdout",
     "output_type": "stream",
     "text": [
      "a = [1, 2, 3] | b = [1, 2, 3]\n"
     ]
    }
   ],
   "source": [
    "a = [1, 2]\n",
    "b = a\n",
    "b.append(3)\n",
    "print('a =', a, '| b =', b)"
   ]
  },
  {
   "cell_type": "code",
   "execution_count": 7,
   "metadata": {},
   "outputs": [
    {
     "name": "stdout",
     "output_type": "stream",
     "text": [
      "a = [1, 2] | b = [1, 2, 3]\n"
     ]
    }
   ],
   "source": [
    "a = [1, 2]\n",
    "b = list(a)\n",
    "b.append(3)\n",
    "print('a =', a, '| b =', b)"
   ]
  },
  {
   "cell_type": "markdown",
   "metadata": {},
   "source": [
    "## Program Flow"
   ]
  },
  {
   "cell_type": "code",
   "execution_count": 8,
   "metadata": {},
   "outputs": [
    {
     "name": "stdout",
     "output_type": "stream",
     "text": [
      "Positive\n"
     ]
    }
   ],
   "source": [
    "a = 4\n",
    "if a > 0:\n",
    "    print('Positive')\n",
    "elif a < 0:\n",
    "    print('Negative')\n",
    "else:\n",
    "    print('0')"
   ]
  },
  {
   "cell_type": "code",
   "execution_count": 9,
   "metadata": {},
   "outputs": [
    {
     "name": "stdout",
     "output_type": "stream",
     "text": [
      "2 | 4 | 6 | 8 | 10 | 12 | 14 | 16 | 18 | "
     ]
    }
   ],
   "source": [
    "for i in range(2, 20, 2):\n",
    "    print(i, end=' | ')"
   ]
  },
  {
   "cell_type": "code",
   "execution_count": 10,
   "metadata": {},
   "outputs": [
    {
     "name": "stdout",
     "output_type": "stream",
     "text": [
      "1 2 | 3 6 | 5 10 | 2 4 | 4 8 | 6 12 | "
     ]
    }
   ],
   "source": [
    "a_list = [1, 3, 5, 2, 4, 6]\n",
    "for val in a_list:\n",
    "    print(val, val*2, end=' | ')"
   ]
  },
  {
   "cell_type": "code",
   "execution_count": 11,
   "metadata": {},
   "outputs": [
    {
     "name": "stdout",
     "output_type": "stream",
     "text": [
      "key1 value1 | key2 [1, 2] | (1, 2) value2 | "
     ]
    }
   ],
   "source": [
    "a_dict = {'key1': 'value1', 'key2': [1, 2], (1, 2): 'value2'}\n",
    "for key in a_dict:\n",
    "    print(key, a_dict[key], end=' | ')"
   ]
  },
  {
   "cell_type": "code",
   "execution_count": 12,
   "metadata": {},
   "outputs": [
    {
     "name": "stdout",
     "output_type": "stream",
     "text": [
      "0 Cleese | 1 Gilliam | 2 Palin | 3 Chapman | 4 Idle | 5 Jones | "
     ]
    }
   ],
   "source": [
    "list_of_names = ['Cleese', 'Gilliam', 'Palin', 'Chapman', 'Idle', 'Jones']\n",
    "for index, name in enumerate(list_of_names):\n",
    "    print(index, name, end=' | ')"
   ]
  },
  {
   "cell_type": "code",
   "execution_count": 13,
   "metadata": {},
   "outputs": [
    {
     "name": "stdout",
     "output_type": "stream",
     "text": [
      "John Cleese 1939 None | Terry Gilliam 1940 None | Michael Palin 1943 None | Graham Chapman 1941 1989 | Eric Idle 1943 None | Terry Jones 1942 None | "
     ]
    }
   ],
   "source": [
    "first_names = ['John', 'Terry', 'Michael', 'Graham', 'Eric', 'Terry']\n",
    "last_names = ['Cleese', 'Gilliam', 'Palin', 'Chapman', 'Idle', 'Jones']\n",
    "years_of_birth = [1939, 1940, 1943, 1941, 1943, 1942]\n",
    "years_of_death = [None, None, None, 1989, None, None]\n",
    "for first, last, birth, death in zip(first_names, last_names, years_of_birth, years_of_death):\n",
    "    print(first, last, birth, death, end=' | ')"
   ]
  },
  {
   "cell_type": "code",
   "execution_count": 14,
   "metadata": {},
   "outputs": [
    {
     "name": "stdout",
     "output_type": "stream",
     "text": [
      "1 | 3 | 5 | 7 | 9 | 11 | 13 | 15 | 17 | 19 | "
     ]
    }
   ],
   "source": [
    "for i in range(100):\n",
    "    if i % 2 == 0:\n",
    "        continue    # jump to next step\n",
    "    if i > 20:\n",
    "        break       # exit the loop\n",
    "    print(i, end=' | ')"
   ]
  },
  {
   "cell_type": "code",
   "execution_count": 15,
   "metadata": {},
   "outputs": [
    {
     "name": "stdout",
     "output_type": "stream",
     "text": [
      "[0] | [0, 1] | [0, 1, 2] | [0, 1, 2, 3] | [0, 1, 2, 3, 4] | "
     ]
    }
   ],
   "source": [
    "l = []\n",
    "while len(l) < 5:\n",
    "    l.append(len(l))\n",
    "    print(l, end=' | ')"
   ]
  },
  {
   "cell_type": "markdown",
   "metadata": {},
   "source": [
    "### List Compreehension"
   ]
  },
  {
   "cell_type": "code",
   "execution_count": 16,
   "metadata": {},
   "outputs": [
    {
     "name": "stdout",
     "output_type": "stream",
     "text": [
      "['0', '1', '2', '3', '4', '5', '6', '7', '8', '9']\n",
      "{'0': 0, '1': 2, '2': 4, '3': 6, '4': 8, '5': 10, '6': 12, '7': 14, '8': 16, '9': 18}\n"
     ]
    }
   ],
   "source": [
    "list_of_strings = [str(i) for i in range(10)]\n",
    "print(list_of_strings)\n",
    "dict_of_strings = {s: int(s) * 2 for s in list_of_strings}\n",
    "print(dict_of_strings)"
   ]
  },
  {
   "cell_type": "markdown",
   "metadata": {},
   "source": [
    "## Operators"
   ]
  },
  {
   "cell_type": "markdown",
   "metadata": {},
   "source": [
    "#### Arithmetic"
   ]
  },
  {
   "cell_type": "code",
   "execution_count": 17,
   "metadata": {},
   "outputs": [
    {
     "name": "stdout",
     "output_type": "stream",
     "text": [
      "5 +  3 = 8\n",
      "5 -  3 = 2\n",
      "5 *  3 = 15\n",
      "5 /  3 = 1.6666666666666667\n",
      "5 ** 3 = 125\n",
      "5 // 3 = 1\n",
      "5 %  3 = 2\n"
     ]
    }
   ],
   "source": [
    "print('5 +  3 =', 5 + 3)    # Addition\n",
    "print('5 -  3 =', 5 - 3)    # Subtraction\n",
    "print('5 *  3 =', 5 * 3)    # Multiplication\n",
    "print('5 /  3 =', 5 / 3)    # Division\n",
    "print('5 ** 3 =', 5 ** 3)   # Exponentiation\n",
    "print('5 // 3 =', 5 // 3)   # Floor Division\n",
    "print('5 %  3 =', 5 % 3)    # Division Remainder"
   ]
  },
  {
   "cell_type": "code",
   "execution_count": 18,
   "metadata": {},
   "outputs": [
    {
     "name": "stdout",
     "output_type": "stream",
     "text": [
      "0\n",
      "1\n",
      "-1\n",
      "-3\n",
      "-0.75\n",
      "-0.2373046875\n",
      "-1.0\n",
      "6.0\n"
     ]
    }
   ],
   "source": [
    "a = 0\n",
    "print(a)\n",
    "a += 1\n",
    "print(a)\n",
    "a -= 2\n",
    "print(a)\n",
    "a *= 3\n",
    "print(a)\n",
    "a /= 4\n",
    "print(a)\n",
    "a **= 5\n",
    "print(a)\n",
    "a //= 6\n",
    "print(a)\n",
    "a %= 7\n",
    "print(a)"
   ]
  },
  {
   "cell_type": "markdown",
   "metadata": {},
   "source": [
    "#### Comparison"
   ]
  },
  {
   "cell_type": "code",
   "execution_count": 19,
   "metadata": {},
   "outputs": [
    {
     "name": "stdout",
     "output_type": "stream",
     "text": [
      "5 >  3 = True\n",
      "5 >= 3 = True\n",
      "5 <  3 = False\n",
      "5 <= 3 = False\n",
      "5 == 3 = False\n",
      "5 != 3 = True\n"
     ]
    }
   ],
   "source": [
    "print('5 >  3 =', 5 > 3)\n",
    "print('5 >= 3 =', 5 >= 3)\n",
    "print('5 <  3 =', 5 < 3)\n",
    "print('5 <= 3 =', 5 <= 3)\n",
    "print('5 == 3 =', 5 == 3)\n",
    "print('5 != 3 =', 5 != 3)"
   ]
  },
  {
   "cell_type": "markdown",
   "metadata": {},
   "source": [
    "#### Boolean"
   ]
  },
  {
   "cell_type": "code",
   "execution_count": 20,
   "metadata": {},
   "outputs": [
    {
     "name": "stdout",
     "output_type": "stream",
     "text": [
      "True and False = False\n",
      "True or  False = True\n",
      "      not True = False\n"
     ]
    }
   ],
   "source": [
    "print('True and False =', True and False)\n",
    "print('True or  False =', True or False)\n",
    "print('      not True =', not True)"
   ]
  },
  {
   "cell_type": "markdown",
   "metadata": {},
   "source": [
    "#### Bitwise\n",
    "\n",
    "**Warning:** do not mistake these for the boolean operators.\n",
    "*Usually not used.*\n",
    "\n",
    "* `&` - bitwise AND\n",
    "* `|` - bitwise OR\n",
    "* `^` - bitwise XOR\n",
    "* `~` - bitwise NOT\n",
    "* `>>` - bitwise RIGHT SHIFT\n",
    "* `<<` - bitwise LEFT SHIFT"
   ]
  },
  {
   "cell_type": "markdown",
   "metadata": {},
   "source": [
    "## Functions"
   ]
  },
  {
   "cell_type": "code",
   "execution_count": 21,
   "metadata": {},
   "outputs": [],
   "source": [
    "def function(arg1, arg2):\n",
    "    pass"
   ]
  },
  {
   "cell_type": "code",
   "execution_count": 22,
   "metadata": {},
   "outputs": [
    {
     "name": "stdout",
     "output_type": "stream",
     "text": [
      "3.5\n"
     ]
    }
   ],
   "source": [
    "def add(a, b):\n",
    "    return a + b\n",
    "print(add(1, 2.5))"
   ]
  },
  {
   "cell_type": "code",
   "execution_count": 23,
   "metadata": {},
   "outputs": [
    {
     "name": "stdout",
     "output_type": "stream",
     "text": [
      "3.5\n"
     ]
    }
   ],
   "source": [
    "def add(a, b):\n",
    "    return a + b\n",
    "f = add            # Functions are normal objects\n",
    "print(f(1, 2.5))"
   ]
  },
  {
   "cell_type": "code",
   "execution_count": 24,
   "metadata": {},
   "outputs": [
    {
     "name": "stdout",
     "output_type": "stream",
     "text": [
      "['key1', 'key2', (1, 2)]\n",
      "['value1', [1, 2], 'value2']\n",
      "['key1', 'key2', (1, 2)]\n",
      "['value1', [1, 2], 'value2']\n",
      "[('key1', 'value1'), ('key2', [1, 2]), ((1, 2), 'value2')]\n"
     ]
    }
   ],
   "source": [
    "def get_keys_and_values(dic):\n",
    "    keys = []\n",
    "    values = []\n",
    "    \n",
    "    for key in dic:\n",
    "        keys.append(key)\n",
    "        values.append(dic[key])\n",
    "        \n",
    "    return keys, values\n",
    "\n",
    "a_dict = {'key1': 'value1', 'key2': [1, 2], (1, 2): 'value2'}\n",
    "keys, values = get_keys_and_values(a_dict)\n",
    "print(keys)\n",
    "print(values)\n",
    "\n",
    "# Equivalent to\n",
    "keys2 = list(a_dict.keys())\n",
    "values2 = list(a_dict.values())\n",
    "items = list(a_dict.items())\n",
    "print(keys2)\n",
    "print(values2)\n",
    "print(items)"
   ]
  },
  {
   "cell_type": "markdown",
   "metadata": {},
   "source": [
    "#### Default arguments"
   ]
  },
  {
   "cell_type": "code",
   "execution_count": 25,
   "metadata": {},
   "outputs": [
    {
     "name": "stdout",
     "output_type": "stream",
     "text": [
      "6\n",
      "15\n"
     ]
    }
   ],
   "source": [
    "def mult(a, b=2):\n",
    "    return a*b\n",
    "print(mult(3))\n",
    "print(mult(3, 5))"
   ]
  },
  {
   "cell_type": "markdown",
   "metadata": {},
   "source": [
    "**Warning:** These are evaluated only the first time you run the function:"
   ]
  },
  {
   "cell_type": "code",
   "execution_count": 26,
   "metadata": {},
   "outputs": [
    {
     "name": "stdout",
     "output_type": "stream",
     "text": [
      "[1]\n",
      "[1, 2]\n",
      "[0, 1, -1]\n"
     ]
    }
   ],
   "source": [
    "def append_to_list(val, l=[]):\n",
    "    l.append(val)\n",
    "    return l\n",
    "print(append_to_list(1))\n",
    "print(append_to_list(2))\n",
    "print(append_to_list(-1, [0, 1]))"
   ]
  },
  {
   "cell_type": "markdown",
   "metadata": {},
   "source": [
    "Usual solution: use None value and initialize inside of function:"
   ]
  },
  {
   "cell_type": "code",
   "execution_count": 27,
   "metadata": {},
   "outputs": [
    {
     "name": "stdout",
     "output_type": "stream",
     "text": [
      "[1]\n",
      "[2]\n",
      "[0, 1, -1]\n"
     ]
    }
   ],
   "source": [
    "def append_to_list(val, l=None):\n",
    "    if l is None:\n",
    "        l = []\n",
    "    l.append(val)\n",
    "    return l\n",
    "print(append_to_list(1))\n",
    "print(append_to_list(2))\n",
    "print(append_to_list(-1, [0, 1]))"
   ]
  },
  {
   "cell_type": "markdown",
   "metadata": {},
   "source": [
    "#### Keyword Arguments"
   ]
  },
  {
   "cell_type": "code",
   "execution_count": 28,
   "metadata": {},
   "outputs": [
    {
     "name": "stdout",
     "output_type": "stream",
     "text": [
      "[2, 3, 4]\n",
      "[3, 1, 1]\n",
      "[1, 4, 1]\n",
      "[3, 1, 5]\n"
     ]
    }
   ],
   "source": [
    "def add_to_vec(vec, x=0, y=0, z=0):\n",
    "    return [vec[0] + x, vec[1] + y, vec[2] + z]\n",
    "print(add_to_vec([1, 1, 1], 1, 2, 3))\n",
    "print(add_to_vec([1, 1, 1], x=2))\n",
    "print(add_to_vec([1, 1, 1], y=3))\n",
    "print(add_to_vec([1, 1, 1], x=2, z=4))"
   ]
  },
  {
   "cell_type": "markdown",
   "metadata": {},
   "source": [
    "#### Arbitrary Arguments"
   ]
  },
  {
   "cell_type": "code",
   "execution_count": 29,
   "metadata": {},
   "outputs": [
    {
     "name": "stdout",
     "output_type": "stream",
     "text": [
      "(1, 2, 3)\n",
      "{'a': 'a', 'b': 'b', 'c': [1, 2]}\n",
      "Argument: \"1\"\n",
      "Argument: \"2\"\n",
      "Argument: \"3\"\n",
      "Keyword Argument: \"a: a\"\n",
      "Keyword Argument: \"b: b\"\n",
      "Keyword Argument: \"c: [1, 2]\"\n"
     ]
    }
   ],
   "source": [
    "def print_args_kwargs(*args, **kwargs):\n",
    "    print(args)     # Tuple\n",
    "    print(kwargs)   # Dictionary\n",
    "    for arg in args:\n",
    "        print('Argument: \"{}\"'.format(arg))\n",
    "    for key in kwargs:\n",
    "        print('Keyword Argument: \"{}: {}\"'.format(key, kwargs[key]))\n",
    "print_args_kwargs(1, 2, 3, a='a', b='b', c=[1, 2])"
   ]
  },
  {
   "cell_type": "markdown",
   "metadata": {},
   "source": [
    "#### Lambda expressions\n",
    "\n",
    "Anonymous functions"
   ]
  },
  {
   "cell_type": "code",
   "execution_count": 30,
   "metadata": {},
   "outputs": [
    {
     "name": "stdout",
     "output_type": "stream",
     "text": [
      "3.5\n"
     ]
    }
   ],
   "source": [
    "add = lambda a, b: a+b\n",
    "print(add(1, 2.5))"
   ]
  },
  {
   "cell_type": "markdown",
   "metadata": {},
   "source": [
    "#### Unpacking arguments"
   ]
  },
  {
   "cell_type": "code",
   "execution_count": 31,
   "metadata": {},
   "outputs": [
    {
     "name": "stdout",
     "output_type": "stream",
     "text": [
      "([1, 3, 5], {'a': 'a', 'b': 'b', 'c': [1, 2]})\n",
      "{}\n",
      "Argument: \"[1, 3, 5]\"\n",
      "Argument: \"{'a': 'a', 'b': 'b', 'c': [1, 2]}\"\n",
      "--------------------------------------------------\n",
      "(1, 3, 5)\n",
      "{'a': 'a', 'b': 'b', 'c': [1, 2]}\n",
      "Argument: \"1\"\n",
      "Argument: \"3\"\n",
      "Argument: \"5\"\n",
      "Keyword Argument: \"a: a\"\n",
      "Keyword Argument: \"b: b\"\n",
      "Keyword Argument: \"c: [1, 2]\"\n"
     ]
    }
   ],
   "source": [
    "args = [1, 3, 5]\n",
    "kwargs = {'a': 'a', 'b': 'b', 'c': [1, 2]}\n",
    "print_args_kwargs(args, kwargs)\n",
    "print('-'*50)\n",
    "print_args_kwargs(*args, **kwargs)"
   ]
  },
  {
   "cell_type": "markdown",
   "metadata": {},
   "source": [
    "## File IO"
   ]
  },
  {
   "cell_type": "code",
   "execution_count": 32,
   "metadata": {},
   "outputs": [],
   "source": [
    "file = open('file.txt', 'w')\n",
    "file.write('Hello World!\\n')\n",
    "file.write('This is another line.\\n')\n",
    "file.close()"
   ]
  },
  {
   "cell_type": "code",
   "execution_count": 33,
   "metadata": {},
   "outputs": [
    {
     "name": "stdout",
     "output_type": "stream",
     "text": [
      "Hello World!\n",
      "This is another line.\n",
      "\n",
      "True\n"
     ]
    }
   ],
   "source": [
    "file = open('file.txt', 'r')\n",
    "print(file.read())   # Entire File\n",
    "file.close()\n",
    "print(file.closed)"
   ]
  },
  {
   "cell_type": "code",
   "execution_count": 34,
   "metadata": {},
   "outputs": [
    {
     "name": "stdout",
     "output_type": "stream",
     "text": [
      "Hello World!\n",
      "This is another line.\n",
      "True\n"
     ]
    }
   ],
   "source": [
    "with open('file.txt', 'r') as file:\n",
    "    print(file.read(), end='')   # Entire File\n",
    "print(file.closed)"
   ]
  },
  {
   "cell_type": "code",
   "execution_count": 35,
   "metadata": {},
   "outputs": [
    {
     "name": "stdout",
     "output_type": "stream",
     "text": [
      "Hello World!\n",
      "This is another line.\n"
     ]
    }
   ],
   "source": [
    "with open('file.txt', 'r') as file:\n",
    "    line = file.readline()\n",
    "    while line:\n",
    "        print(line, end='')\n",
    "        line = file.readline()"
   ]
  },
  {
   "cell_type": "code",
   "execution_count": 36,
   "metadata": {},
   "outputs": [
    {
     "name": "stdout",
     "output_type": "stream",
     "text": [
      "Hello World!\n",
      "This is another line.\n"
     ]
    }
   ],
   "source": [
    "with open('file.txt', 'r') as file:\n",
    "    for line in file:\n",
    "        print(line, end='')"
   ]
  },
  {
   "cell_type": "markdown",
   "metadata": {},
   "source": [
    "## Exceptions"
   ]
  },
  {
   "cell_type": "code",
   "execution_count": 37,
   "metadata": {},
   "outputs": [
    {
     "name": "stdout",
     "output_type": "stream",
     "text": [
      "Cannot divide by 0!\n",
      "0\n",
      "1.0\n",
      "1.25\n",
      "1.3611111111111112\n",
      "1.4236111111111112\n",
      "1.4636111111111112\n",
      "1.4913888888888889\n",
      "1.511797052154195\n",
      "1.527422052154195\n",
      "1.5397677311665408\n",
      "1.6449340107291268\n"
     ]
    }
   ],
   "source": [
    "s = 0\n",
    "for i in range(10):\n",
    "    try:\n",
    "        s += 1 / i**2\n",
    "    except ZeroDivisionError:\n",
    "        print('Cannot divide by 0!')\n",
    "    finally:\n",
    "        print(s)\n",
    "pi = 3.1415926\n",
    "print(pi**2 / 6)"
   ]
  },
  {
   "cell_type": "code",
   "execution_count": 38,
   "metadata": {},
   "outputs": [
    {
     "ename": "ValueError",
     "evalue": "Function does not accept None.",
     "output_type": "error",
     "traceback": [
      "\u001b[1;31m---------------------------------------------------------------------------\u001b[0m",
      "\u001b[1;31mValueError\u001b[0m                                Traceback (most recent call last)",
      "\u001b[1;32m<ipython-input-38-54988f740415>\u001b[0m in \u001b[0;36m<module>\u001b[1;34m\u001b[0m\n\u001b[0;32m      5\u001b[0m \u001b[0mfunc\u001b[0m\u001b[1;33m(\u001b[0m\u001b[1;34m'a'\u001b[0m\u001b[1;33m)\u001b[0m\u001b[1;33m\u001b[0m\u001b[1;33m\u001b[0m\u001b[0m\n\u001b[0;32m      6\u001b[0m \u001b[0mfunc\u001b[0m\u001b[1;33m(\u001b[0m\u001b[1;36m1\u001b[0m\u001b[1;33m)\u001b[0m\u001b[1;33m\u001b[0m\u001b[1;33m\u001b[0m\u001b[0m\n\u001b[1;32m----> 7\u001b[1;33m \u001b[0mfunc\u001b[0m\u001b[1;33m(\u001b[0m\u001b[1;32mNone\u001b[0m\u001b[1;33m)\u001b[0m\u001b[1;33m\u001b[0m\u001b[1;33m\u001b[0m\u001b[0m\n\u001b[0m",
      "\u001b[1;32m<ipython-input-38-54988f740415>\u001b[0m in \u001b[0;36mfunc\u001b[1;34m(a)\u001b[0m\n\u001b[0;32m      1\u001b[0m \u001b[1;32mdef\u001b[0m \u001b[0mfunc\u001b[0m\u001b[1;33m(\u001b[0m\u001b[0ma\u001b[0m\u001b[1;33m)\u001b[0m\u001b[1;33m:\u001b[0m\u001b[1;33m\u001b[0m\u001b[1;33m\u001b[0m\u001b[0m\n\u001b[0;32m      2\u001b[0m     \u001b[1;32mif\u001b[0m \u001b[0ma\u001b[0m \u001b[1;32mis\u001b[0m \u001b[1;32mNone\u001b[0m\u001b[1;33m:\u001b[0m\u001b[1;33m\u001b[0m\u001b[1;33m\u001b[0m\u001b[0m\n\u001b[1;32m----> 3\u001b[1;33m         \u001b[1;32mraise\u001b[0m \u001b[0mValueError\u001b[0m\u001b[1;33m(\u001b[0m\u001b[1;34m'Function does not accept None.'\u001b[0m\u001b[1;33m)\u001b[0m\u001b[1;33m\u001b[0m\u001b[1;33m\u001b[0m\u001b[0m\n\u001b[0m\u001b[0;32m      4\u001b[0m \u001b[1;33m\u001b[0m\u001b[0m\n\u001b[0;32m      5\u001b[0m \u001b[0mfunc\u001b[0m\u001b[1;33m(\u001b[0m\u001b[1;34m'a'\u001b[0m\u001b[1;33m)\u001b[0m\u001b[1;33m\u001b[0m\u001b[1;33m\u001b[0m\u001b[0m\n",
      "\u001b[1;31mValueError\u001b[0m: Function does not accept None."
     ]
    }
   ],
   "source": [
    "def func(a):\n",
    "    if a is None:\n",
    "        raise ValueError('Function does not accept None.')\n",
    "\n",
    "func('a')\n",
    "func(1)\n",
    "func(None)"
   ]
  },
  {
   "cell_type": "markdown",
   "metadata": {},
   "source": [
    "#### Modules"
   ]
  },
  {
   "cell_type": "code",
   "execution_count": 39,
   "metadata": {},
   "outputs": [
    {
     "name": "stdout",
     "output_type": "stream",
     "text": [
      "['.git', '.gitignore', '.ipynb_checkpoints', '1. Installation and Environment.ipynb', '2. Python Basics.ipynb', '3. Main Libraries.ipynb', 'file.txt', 'README.md']\n"
     ]
    }
   ],
   "source": [
    "import os\n",
    "print(os.listdir())"
   ]
  },
  {
   "cell_type": "code",
   "execution_count": 40,
   "metadata": {},
   "outputs": [
    {
     "name": "stdout",
     "output_type": "stream",
     "text": [
      "3.141592653589793\n"
     ]
    }
   ],
   "source": [
    "from math import pi\n",
    "print(pi)"
   ]
  },
  {
   "cell_type": "code",
   "execution_count": null,
   "metadata": {},
   "outputs": [],
   "source": []
  }
 ],
 "metadata": {
  "kernelspec": {
   "display_name": "Python 3",
   "language": "python",
   "name": "python3"
  },
  "language_info": {
   "codemirror_mode": {
    "name": "ipython",
    "version": 3
   },
   "file_extension": ".py",
   "mimetype": "text/x-python",
   "name": "python",
   "nbconvert_exporter": "python",
   "pygments_lexer": "ipython3",
   "version": "3.7.2"
  }
 },
 "nbformat": 4,
 "nbformat_minor": 2
}
